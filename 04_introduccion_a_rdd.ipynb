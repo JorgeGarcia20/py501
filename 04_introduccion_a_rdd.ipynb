{
 "cells": [
  {
   "cell_type": "markdown",
   "metadata": {},
   "source": [
    "[![img/pythonista.png](img/pythonista.png)](https://www.pythonista.io)"
   ]
  },
  {
   "cell_type": "markdown",
   "metadata": {},
   "source": [
    "# Introducción a *Resilient Distributed Datasets (RDD)*"
   ]
  },
  {
   "cell_type": "markdown",
   "metadata": {},
   "source": [
    "Para poder procesar de forma distribuida grandes volúmenes de datos, *Apache Spark* utiliza los *Resilient Distributed Datasets (RDD)*, los cuales son abstracciones de datos que pueden ser particionadas y ditribuidas de forma consistente dentro del cluster por medio del *SparkContext* y también pueden ser operados de forma paralela.\n",
    "\n",
    "El objetivo principal de los *RDD* es el de garantizar.\n",
    "\n",
    "* La adecuada ejecución de cargas de cómputo en memoria.\n",
    "* Realización de operaciones de evaluación \"perezosa\" (*lazy evaluation*).\n",
    "* Garantizar la tolerancia a fallos.\n",
    "* Garantizar la inmutabilidad de los datos.\n",
    "* Contar con la capacidad de particionamiento de los datos en un clúster.\n",
    "* Garantizar la persistencia de los datos.\n",
    "* Permitir la realización de operaciones granulares.\n",
    "\n",
    "\n",
    "\n",
    "https://spark.apache.org/docs/latest/rdd-programming-guide.html#overview"
   ]
  },
  {
   "cell_type": "markdown",
   "metadata": {},
   "source": [
    "## Creación de un *RDD*."
   ]
  },
  {
   "cell_type": "markdown",
   "metadata": {},
   "source": [
    "Existen dos formas de crear un*RDD*.\n",
    "\n",
    "* Utilizando el método [```pyspark.SparkContext.parallelize()```](https://spark.apache.org/docs/latest/api/python/reference/api/pyspark.SparkContext.parallelize.html) sobre una colección de *Python*.\n",
    "* Referenciando un [dataset](https://spark.apache.org/docs/latest/api/python/reference/api/pyspark.SparkContext.parallelize.html) en un sistema de almacenamiento externo."
   ]
  },
  {
   "cell_type": "code",
   "execution_count": 1,
   "metadata": {},
   "outputs": [],
   "source": [
    "from pyspark.sql import SparkSession"
   ]
  },
  {
   "cell_type": "code",
   "execution_count": 2,
   "metadata": {},
   "outputs": [],
   "source": [
    "spark = SparkSession.builder.appName(\"Introduccion a RDD\").getOrCreate()"
   ]
  },
  {
   "cell_type": "code",
   "execution_count": 3,
   "metadata": {},
   "outputs": [],
   "source": [
    "rdd_lista = spark.sparkContext.parallelize('1,2,3,4')"
   ]
  },
  {
   "cell_type": "code",
   "execution_count": 7,
   "metadata": {},
   "outputs": [
    {
     "data": {
      "text/plain": [
       "ParallelCollectionRDD[0] at readRDDFromFile at PythonRDD.scala:274"
      ]
     },
     "execution_count": 7,
     "metadata": {},
     "output_type": "execute_result"
    }
   ],
   "source": [
    "rdd_lista"
   ]
  },
  {
   "cell_type": "code",
   "execution_count": 4,
   "metadata": {},
   "outputs": [],
   "source": [
    "rdd_texto = spark.sparkContext.textFile('00_Preliminar.ipynb')"
   ]
  },
  {
   "cell_type": "code",
   "execution_count": 5,
   "metadata": {},
   "outputs": [
    {
     "data": {
      "text/plain": [
       "00_Preliminar.ipynb MapPartitionsRDD[2] at textFile at NativeMethodAccessorImpl.java:0"
      ]
     },
     "execution_count": 5,
     "metadata": {},
     "output_type": "execute_result"
    }
   ],
   "source": [
    "rdd_texto"
   ]
  },
  {
   "cell_type": "markdown",
   "metadata": {},
   "source": [
    "## Operaciones de *RDDs*."
   ]
  },
  {
   "cell_type": "markdown",
   "metadata": {},
   "source": [
    "Las operaciones son acciones que pueden ser asignadas como tareas de procesamiento de un clúster. Los *RRD* pueden realizar operaciones de dos tipos:\n",
    "\n",
    "* **Transformaciones**. Son operaciones perezosas, que dan por resultado un nuevo *RDD*. Una operación perezosa no se realiza hasta que el objeto resultante de dicha operación se utilizado. Algunas transformaciones son [```flatMap()```](https://spark.apache.org/docs/latest/api/python/reference/api/pyspark.RDD.flatMap.html), [```map()```](https://spark.apache.org/docs/latest/api/python/reference/api/pyspark.RDD.map.html), [```reduceByKey()```](https://spark.apache.org/docs/latest/api/python/reference/api/pyspark.RDD.reduceByKey.html), [```filter()```](https://spark.apache.org/docs/latest/api/python/reference/api/pyspark.RDD.filter.html), [```sortByKey()```](https://spark.apache.org/docs/latest/api/python/reference/api/pyspark.RDD.sortByKey.html).\n",
    "* [**Acciones**](https://spark.apache.org/docs/latest/rdd-programming-guide.html#actions). Son operaciones que realizan cómputos a partir del *RDD* y regresan algún valor. Algunas acciones son [```count()```](https://spark.apache.org/docs/latest/api/python/reference/api/pyspark.RDD.count.html), [```collect()```](https://spark.apache.org/docs/latest/api/python/reference/api/pyspark.RDD.collect.html), [```first()```](https://spark.apache.org/docs/latest/api/python/reference/api/pyspark.RDD.first.html), [```max()```](https://spark.apache.org/docs/latest/api/python/reference/api/pyspark.RDD.max.html), [```reduce()```](https://spark.apache.org/docs/latest/api/python/reference/api/pyspark.RDD.reduce.html).\n",
    "\n",
    "https://spark.apache.org/docs/latest/rdd-programming-guide.html#rdd-operations\n",
    "\n",
    "https://www.analyticsvidhya.com/blog/2021/10/a-comprehensive-guide-to-pyspark-rdd-operations/\n"
   ]
  },
  {
   "cell_type": "code",
   "execution_count": 8,
   "metadata": {},
   "outputs": [
    {
     "data": {
      "text/plain": [
       "7"
      ]
     },
     "execution_count": 8,
     "metadata": {},
     "output_type": "execute_result"
    }
   ],
   "source": [
    "rdd_lista.count()"
   ]
  },
  {
   "cell_type": "code",
   "execution_count": 15,
   "metadata": {},
   "outputs": [],
   "source": [
    "palabras = rdd_texto.flatMap(lambda line: line.split(\" \"))"
   ]
  },
  {
   "cell_type": "markdown",
   "metadata": {},
   "source": [
    "<p style=\"text-align: center\"><a rel=\"license\" href=\"http://creativecommons.org/licenses/by/4.0/\"><img alt=\"Licencia Creative Commons\" style=\"border-width:0\" src=\"https://i.creativecommons.org/l/by/4.0/80x15.png\" /></a><br />Esta obra está bajo una <a rel=\"license\" href=\"http://creativecommons.org/licenses/by/4.0/\">Licencia Creative Commons Atribución 4.0 Internacional</a>.</p>\n",
    "<p style=\"text-align: center\">&copy; José Luis Chiquete Valdivieso. 2022.</p>"
   ]
  }
 ],
 "metadata": {
  "kernelspec": {
   "display_name": "Python 3 (ipykernel)",
   "language": "python",
   "name": "python3"
  },
  "language_info": {
   "codemirror_mode": {
    "name": "ipython",
    "version": 3
   },
   "file_extension": ".py",
   "mimetype": "text/x-python",
   "name": "python",
   "nbconvert_exporter": "python",
   "pygments_lexer": "ipython3",
   "version": "3.10.6"
  }
 },
 "nbformat": 4,
 "nbformat_minor": 4
}
